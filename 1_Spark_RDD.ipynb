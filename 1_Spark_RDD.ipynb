{
  "cells": [
    {
      "cell_type": "code",
      "source": [
        "!pip install pyspark"
      ],
      "metadata": {
        "colab": {
          "base_uri": "https://localhost:8080/"
        },
        "id": "igTBqtfgBDEL",
        "outputId": "e750117b-6ddb-4518-bc35-90f154af3a42"
      },
      "execution_count": 3,
      "outputs": [
        {
          "output_type": "stream",
          "name": "stdout",
          "text": [
            "Collecting pyspark\n",
            "  Downloading pyspark-3.2.1.tar.gz (281.4 MB)\n",
            "\u001b[K     |████████████████████████████████| 281.4 MB 36 kB/s \n",
            "\u001b[?25hCollecting py4j==0.10.9.3\n",
            "  Downloading py4j-0.10.9.3-py2.py3-none-any.whl (198 kB)\n",
            "\u001b[K     |████████████████████████████████| 198 kB 40.8 MB/s \n",
            "\u001b[?25hBuilding wheels for collected packages: pyspark\n",
            "  Building wheel for pyspark (setup.py) ... \u001b[?25l\u001b[?25hdone\n",
            "  Created wheel for pyspark: filename=pyspark-3.2.1-py2.py3-none-any.whl size=281853642 sha256=59a7aaf740a0a9fe028fdb1f5579257fcc4ac40eb9878abbabb395e841e78bed\n",
            "  Stored in directory: /root/.cache/pip/wheels/9f/f5/07/7cd8017084dce4e93e84e92efd1e1d5334db05f2e83bcef74f\n",
            "Successfully built pyspark\n",
            "Installing collected packages: py4j, pyspark\n",
            "Successfully installed py4j-0.10.9.3 pyspark-3.2.1\n"
          ]
        }
      ]
    },
    {
      "cell_type": "code",
      "source": [
        "from pyspark import SparkContext, SparkConf\n",
        "from pyspark.sql import SparkSession\n",
        "spark = SparkSession.builder.getOrCreate()\n",
        "sc = SparkContext.getOrCreate()"
      ],
      "metadata": {
        "id": "ftLwKassAxqF"
      },
      "execution_count": 9,
      "outputs": []
    },
    {
      "cell_type": "code",
      "source": [
        "data = [1,2,3,4,5]\n",
        "rDD=sc.parallelize(data,4)\n",
        "rDD\n"
      ],
      "metadata": {
        "application/vnd.databricks.v1+cell": {
          "title": "",
          "showTitle": false,
          "inputWidgets": {},
          "nuid": "ad254aed-7eb0-444b-bab2-4c1fe881e293"
        },
        "colab": {
          "base_uri": "https://localhost:8080/"
        },
        "id": "0JUXZgKuAk2S",
        "outputId": "595a1fd4-534d-4510-bd48-119111621456"
      },
      "outputs": [
        {
          "output_type": "execute_result",
          "data": {
            "text/plain": [
              "ParallelCollectionRDD[0] at readRDDFromFile at PythonRDD.scala:274"
            ]
          },
          "metadata": {},
          "execution_count": 10
        }
      ],
      "execution_count": 10
    },
    {
      "cell_type": "code",
      "source": [
        "A=sc.parallelize([2,4,7])"
      ],
      "metadata": {
        "application/vnd.databricks.v1+cell": {
          "title": "",
          "showTitle": false,
          "inputWidgets": {},
          "nuid": "a2f00706-e397-42c3-a99d-e20da8ad7ff2"
        },
        "id": "Vffx9IIbAk2Z"
      },
      "outputs": [],
      "execution_count": 11
    },
    {
      "cell_type": "code",
      "source": [
        "L=A.collect()\n",
        "print(type(L))\n",
        "print(L)"
      ],
      "metadata": {
        "application/vnd.databricks.v1+cell": {
          "title": "",
          "showTitle": false,
          "inputWidgets": {},
          "nuid": "d78cf891-0dcc-4f7c-a187-9bcc27b92284"
        },
        "colab": {
          "base_uri": "https://localhost:8080/"
        },
        "id": "a1dOeyoQAk2a",
        "outputId": "8556bab7-91b5-4777-f853-5d92f2d3ab40"
      },
      "outputs": [
        {
          "output_type": "stream",
          "name": "stdout",
          "text": [
            "<class 'list'>\n",
            "[2, 4, 7]\n"
          ]
        }
      ],
      "execution_count": 12
    },
    {
      "cell_type": "code",
      "source": [
        "A.reduce(lambda x,y:x*y) "
      ],
      "metadata": {
        "application/vnd.databricks.v1+cell": {
          "title": "",
          "showTitle": false,
          "inputWidgets": {},
          "nuid": "5d1453f5-c6de-4f05-97f9-3cbe7a43eb84"
        },
        "colab": {
          "base_uri": "https://localhost:8080/"
        },
        "id": "c50w6EhFAk2c",
        "outputId": "621f2bee-0b3d-4330-83f7-be95762bbe7b"
      },
      "outputs": [
        {
          "output_type": "execute_result",
          "data": {
            "text/plain": [
              "56"
            ]
          },
          "metadata": {},
          "execution_count": 13
        }
      ],
      "execution_count": 13
    },
    {
      "cell_type": "code",
      "source": [
        "rdd =sc.parallelize([5,3,1,2])\n",
        "rdd.takeOrdered(3,lambda s: 1 * s)"
      ],
      "metadata": {
        "application/vnd.databricks.v1+cell": {
          "title": "",
          "showTitle": false,
          "inputWidgets": {},
          "nuid": "4a7489f2-39c7-44d8-aadd-d8add8e085a0"
        },
        "colab": {
          "base_uri": "https://localhost:8080/"
        },
        "id": "P4VFZp_rAk2c",
        "outputId": "e4f5f1ee-3822-43e5-f33a-1e0f25ae8b36"
      },
      "outputs": [
        {
          "output_type": "execute_result",
          "data": {
            "text/plain": [
              "[1, 2, 3]"
            ]
          },
          "metadata": {},
          "execution_count": 14
        }
      ],
      "execution_count": 14
    },
    {
      "cell_type": "code",
      "source": [
        "rdd.count()"
      ],
      "metadata": {
        "application/vnd.databricks.v1+cell": {
          "title": "",
          "showTitle": false,
          "inputWidgets": {},
          "nuid": "28dd7919-fb15-4d6d-af12-e0ca66c979cb"
        },
        "colab": {
          "base_uri": "https://localhost:8080/"
        },
        "id": "x-XuGGBeAk2d",
        "outputId": "daf45a02-9a53-4d42-d633-ec13f2b7fdd3"
      },
      "outputs": [
        {
          "output_type": "execute_result",
          "data": {
            "text/plain": [
              "4"
            ]
          },
          "metadata": {},
          "execution_count": 15
        }
      ],
      "execution_count": 15
    },
    {
      "cell_type": "code",
      "source": [
        "rdd.saveAsTextFile(\"/FileStore/rdddata/\") "
      ],
      "metadata": {
        "application/vnd.databricks.v1+cell": {
          "title": "",
          "showTitle": false,
          "inputWidgets": {},
          "nuid": "c378fb78-806f-453b-8adf-9d01518efdc7"
        },
        "id": "CKBK1XVZAk2d"
      },
      "outputs": [],
      "execution_count": 16
    },
    {
      "cell_type": "code",
      "source": [
        "words=['this','is','the','best','mac','ever']\n",
        "wordRDD=sc.parallelize(words)\n",
        "wordRDD.reduce(lambda w,v: w if len(w)<len(v) else v)"
      ],
      "metadata": {
        "application/vnd.databricks.v1+cell": {
          "title": "",
          "showTitle": false,
          "inputWidgets": {},
          "nuid": "81bab392-11b0-4c2c-ad3e-c67d9a17a3b0"
        },
        "colab": {
          "base_uri": "https://localhost:8080/",
          "height": 35
        },
        "id": "ZOtIkDPxAk2e",
        "outputId": "75c2fe9b-0ca0-4719-f6be-e39fe124c9ac"
      },
      "outputs": [
        {
          "output_type": "execute_result",
          "data": {
            "application/vnd.google.colaboratory.intrinsic+json": {
              "type": "string"
            },
            "text/plain": [
              "'is'"
            ]
          },
          "metadata": {},
          "execution_count": 17
        }
      ],
      "execution_count": 17
    },
    {
      "cell_type": "code",
      "source": [
        "B=sc.parallelize([1,3,5,2])\n",
        "B.reduce(lambda x,y: x-y)"
      ],
      "metadata": {
        "application/vnd.databricks.v1+cell": {
          "title": "",
          "showTitle": false,
          "inputWidgets": {},
          "nuid": "44b34548-8178-4402-aa78-e133833dd0d9"
        },
        "colab": {
          "base_uri": "https://localhost:8080/"
        },
        "id": "_nikhImXAk2f",
        "outputId": "f269630b-e1b2-4e96-e3e1-87751f72129a"
      },
      "outputs": [
        {
          "output_type": "execute_result",
          "data": {
            "text/plain": [
              "-5"
            ]
          },
          "metadata": {},
          "execution_count": 18
        }
      ],
      "execution_count": 18
    },
    {
      "cell_type": "code",
      "source": [
        "def largerThan(x,y):\n",
        "    if len(x)>len(y): return x\n",
        "    elif len(y)>len(x): return y\n",
        "    else:  #lengths are equal, compare lexicographically\n",
        "        if x>y: \n",
        "            return x\n",
        "        else: \n",
        "            return y\n",
        "        \n",
        "wordRDD.reduce(largerThan)"
      ],
      "metadata": {
        "application/vnd.databricks.v1+cell": {
          "title": "",
          "showTitle": false,
          "inputWidgets": {},
          "nuid": "e7e94877-e741-4fb4-9653-fc07461a4f3d"
        },
        "colab": {
          "base_uri": "https://localhost:8080/",
          "height": 35
        },
        "id": "ynKc2nspAk2g",
        "outputId": "8e79570b-57ab-4773-8f3c-617e160af520"
      },
      "outputs": [
        {
          "output_type": "execute_result",
          "data": {
            "application/vnd.google.colaboratory.intrinsic+json": {
              "type": "string"
            },
            "text/plain": [
              "'this'"
            ]
          },
          "metadata": {},
          "execution_count": 19
        }
      ],
      "execution_count": 19
    },
    {
      "cell_type": "code",
      "source": [
        "A=sc.parallelize(range(100000))\n",
        "print(A.getNumPartitions())"
      ],
      "metadata": {
        "application/vnd.databricks.v1+cell": {
          "title": "",
          "showTitle": false,
          "inputWidgets": {},
          "nuid": "8ea96f01-45c6-42da-a90e-2bea792a7274"
        },
        "colab": {
          "base_uri": "https://localhost:8080/"
        },
        "id": "qVowlYgLAk2h",
        "outputId": "f5d838e9-493f-43a2-add9-59b4f18ec665"
      },
      "outputs": [
        {
          "output_type": "stream",
          "name": "stdout",
          "text": [
            "2\n"
          ]
        }
      ],
      "execution_count": 20
    },
    {
      "cell_type": "code",
      "source": [
        "D=A.repartition(6)\n",
        "print(D.getNumPartitions())"
      ],
      "metadata": {
        "application/vnd.databricks.v1+cell": {
          "title": "",
          "showTitle": false,
          "inputWidgets": {},
          "nuid": "03d4df90-5c36-4692-bb63-f48f7b0d5d76"
        },
        "colab": {
          "base_uri": "https://localhost:8080/"
        },
        "id": "kX0QPLllAk2h",
        "outputId": "b05aad41-b610-4155-8024-eb17074ba75a"
      },
      "outputs": [
        {
          "output_type": "stream",
          "name": "stdout",
          "text": [
            "6\n"
          ]
        }
      ],
      "execution_count": 21
    },
    {
      "cell_type": "code",
      "source": [
        "D=A.coalesce(4)\n",
        "print(D.getNumPartitions())"
      ],
      "metadata": {
        "application/vnd.databricks.v1+cell": {
          "title": "",
          "showTitle": false,
          "inputWidgets": {},
          "nuid": "e0748c0f-d525-4564-88b5-9b5e7c2f092a"
        },
        "colab": {
          "base_uri": "https://localhost:8080/"
        },
        "id": "ooDvhSbOAk2h",
        "outputId": "28bd9dc9-08b0-49a2-fd97-dfc9ef532df5"
      },
      "outputs": [
        {
          "output_type": "stream",
          "name": "stdout",
          "text": [
            "2\n"
          ]
        }
      ],
      "execution_count": 22
    },
    {
      "cell_type": "code",
      "source": [
        "A=sc.parallelize(range(1000000),numSlices=12)\n",
        "print(A.getNumPartitions())"
      ],
      "metadata": {
        "application/vnd.databricks.v1+cell": {
          "title": "",
          "showTitle": false,
          "inputWidgets": {},
          "nuid": "5500c310-8466-4b56-b062-49bcab375127"
        },
        "colab": {
          "base_uri": "https://localhost:8080/"
        },
        "id": "RNlqdBmtAk2j",
        "outputId": "844efd84-f173-49d9-f24f-7f3af3d79998"
      },
      "outputs": [
        {
          "output_type": "stream",
          "name": "stdout",
          "text": [
            "12\n"
          ]
        }
      ],
      "execution_count": 23
    },
    {
      "cell_type": "code",
      "source": [
        "rdd=sc.parallelize([1,2,3,4])\n",
        "rdd.map(lambda x:x*2).collect()"
      ],
      "metadata": {
        "application/vnd.databricks.v1+cell": {
          "title": "",
          "showTitle": false,
          "inputWidgets": {},
          "nuid": "136d6d12-08b2-4080-aa23-69a4e857320a"
        },
        "colab": {
          "base_uri": "https://localhost:8080/"
        },
        "id": "yTGvcWH_Ak2j",
        "outputId": "b0b6973f-72e5-421b-bf3c-082b7c816d26"
      },
      "outputs": [
        {
          "output_type": "execute_result",
          "data": {
            "text/plain": [
              "[2, 4, 6, 8]"
            ]
          },
          "metadata": {},
          "execution_count": 24
        }
      ],
      "execution_count": 24
    },
    {
      "cell_type": "code",
      "source": [
        " rdd.filter(lambda x:x%2==0).collect()"
      ],
      "metadata": {
        "application/vnd.databricks.v1+cell": {
          "title": "",
          "showTitle": false,
          "inputWidgets": {},
          "nuid": "559c0c26-6cb2-4c8e-8829-da9a1f57a19b"
        },
        "colab": {
          "base_uri": "https://localhost:8080/"
        },
        "id": "rhRCfOgJAk2k",
        "outputId": "196d32b6-5794-45e9-caf2-a4be7a658441"
      },
      "outputs": [
        {
          "output_type": "execute_result",
          "data": {
            "text/plain": [
              "[2, 4]"
            ]
          },
          "metadata": {},
          "execution_count": 25
        }
      ],
      "execution_count": 25
    },
    {
      "cell_type": "code",
      "source": [
        "rdd2=sc.parallelize([1,4,2,2,3])\n",
        "rdd2.distinct().collect()"
      ],
      "metadata": {
        "application/vnd.databricks.v1+cell": {
          "title": "",
          "showTitle": false,
          "inputWidgets": {},
          "nuid": "4c72a717-164b-4a40-a1dd-b82dc7a9793b"
        },
        "colab": {
          "base_uri": "https://localhost:8080/"
        },
        "id": "l4KbkRK9Ak2k",
        "outputId": "99beaafa-59d0-430e-8ced-618c5feed1e6"
      },
      "outputs": [
        {
          "output_type": "execute_result",
          "data": {
            "text/plain": [
              "[4, 2, 1, 3]"
            ]
          },
          "metadata": {},
          "execution_count": 26
        }
      ],
      "execution_count": 26
    },
    {
      "cell_type": "code",
      "source": [
        "n=1000000\n",
        "B=sc.parallelize([1,2,3,4]*int(n/4))"
      ],
      "metadata": {
        "application/vnd.databricks.v1+cell": {
          "title": "",
          "showTitle": false,
          "inputWidgets": {},
          "nuid": "f353e21f-677d-471a-a9f2-d755c7197b67"
        },
        "id": "ecsjFUYrAk2k"
      },
      "outputs": [],
      "execution_count": 27
    },
    {
      "cell_type": "code",
      "source": [
        "def greaterthan(x):\n",
        "  return x > 1\n",
        "print('the number of elements in B that are > 3 =',B.filter(greaterthan).count())\n",
        "\n",
        "print('the number of elements in B that are > 3 =',B.filter(lambda n: n > 1).count())"
      ],
      "metadata": {
        "application/vnd.databricks.v1+cell": {
          "title": "",
          "showTitle": false,
          "inputWidgets": {},
          "nuid": "4443a7e5-3fb6-439d-b4d3-c92021644a95"
        },
        "colab": {
          "base_uri": "https://localhost:8080/"
        },
        "id": "lbJy7ACzAk2k",
        "outputId": "2de25e14-eb29-407c-aafa-6501a1c60ea6"
      },
      "outputs": [
        {
          "output_type": "stream",
          "name": "stdout",
          "text": [
            "the number of elements in B that are > 3 = 750000\n",
            "the number of elements in B that are > 3 = 750000\n"
          ]
        }
      ],
      "execution_count": 28
    },
    {
      "cell_type": "code",
      "source": [
        "# Remove duplicate element in DuplicateRDD, we get distinct RDD\n",
        "DuplicateRDD = sc.parallelize([1,1,2,2,3,3])\n",
        "print('DuplicateRDD=',DuplicateRDD.collect())\n",
        "print('DistinctRDD = ',DuplicateRDD.distinct().collect())"
      ],
      "metadata": {
        "application/vnd.databricks.v1+cell": {
          "title": "",
          "showTitle": false,
          "inputWidgets": {},
          "nuid": "965db644-5f55-4918-889d-e0bc41ad21ad"
        },
        "colab": {
          "base_uri": "https://localhost:8080/"
        },
        "id": "QBwfAj_UAk2l",
        "outputId": "8034ced7-5a03-4a19-ec99-79e4918ca8f2"
      },
      "outputs": [
        {
          "output_type": "stream",
          "name": "stdout",
          "text": [
            "DuplicateRDD= [1, 1, 2, 2, 3, 3]\n",
            "DistinctRDD =  [2, 1, 3]\n"
          ]
        }
      ],
      "execution_count": 29
    },
    {
      "cell_type": "code",
      "source": [
        "text=[\"you are my sunshine\",\"my only sunshine\"]\n",
        "text_file = sc.parallelize(text)\n",
        "# map each line in text to a list of words\n",
        "print('map:',text_file.map(lambda line: line.split(\" \")).collect())\n",
        "# create a single list of words by combining the words from all of the lines\n",
        "print('flatmap:',text_file.flatMap(lambda line: line.split(\" \")).collect())"
      ],
      "metadata": {
        "application/vnd.databricks.v1+cell": {
          "title": "",
          "showTitle": false,
          "inputWidgets": {},
          "nuid": "377c674e-5003-4116-9839-3e9cc69970c0"
        },
        "colab": {
          "base_uri": "https://localhost:8080/"
        },
        "id": "dJasExruAk2l",
        "outputId": "94cfd712-879d-4e68-9bb1-c719519f1aea"
      },
      "outputs": [
        {
          "output_type": "stream",
          "name": "stdout",
          "text": [
            "map: [['you', 'are', 'my', 'sunshine'], ['my', 'only', 'sunshine']]\n",
            "flatmap: ['you', 'are', 'my', 'sunshine', 'my', 'only', 'sunshine']\n"
          ]
        }
      ],
      "execution_count": 30
    },
    {
      "cell_type": "code",
      "source": [
        "rdd1 = sc.parallelize([1, 1, 2, 3])\n",
        "rdd2 = sc.parallelize([1, 3, 4, 5])"
      ],
      "metadata": {
        "application/vnd.databricks.v1+cell": {
          "title": "",
          "showTitle": false,
          "inputWidgets": {},
          "nuid": "8865b470-4203-4923-b838-9f096d09cd9d"
        },
        "id": "u5d1j-zNAk2l"
      },
      "outputs": [],
      "execution_count": 31
    },
    {
      "cell_type": "code",
      "source": [
        "rdd2=sc.parallelize(['a','b',1])\n",
        "print('rdd1=',rdd1.collect())\n",
        "print('rdd2=',rdd2.collect())\n",
        "print('union as bags =',rdd1.union(rdd2).collect())\n",
        "print('union as sets =',rdd1.union(rdd2).distinct().collect())"
      ],
      "metadata": {
        "application/vnd.databricks.v1+cell": {
          "title": "",
          "showTitle": false,
          "inputWidgets": {},
          "nuid": "093e4fda-0bd3-4d09-b2fe-e57ce16c96f8"
        },
        "colab": {
          "base_uri": "https://localhost:8080/"
        },
        "id": "GJvOSDBOAk2l",
        "outputId": "a2f70b15-b840-4b6b-9f30-8dd335eb5b29"
      },
      "outputs": [
        {
          "output_type": "stream",
          "name": "stdout",
          "text": [
            "rdd1= [1, 1, 2, 3]\n",
            "rdd2= ['a', 'b', 1]\n",
            "union as bags = [1, 1, 2, 3, 'a', 'b', 1]\n",
            "union as sets = ['b', 1, 'a', 2, 3]\n"
          ]
        }
      ],
      "execution_count": 32
    },
    {
      "cell_type": "code",
      "source": [
        "regular_rdd = sc.parallelize([1, 2, 3, 4, 2, 5, 6])\n",
        "pair_rdd = regular_rdd.map( lambda x: (x, x*x) )\n",
        "print(pair_rdd.collect())"
      ],
      "metadata": {
        "application/vnd.databricks.v1+cell": {
          "title": "",
          "showTitle": false,
          "inputWidgets": {},
          "nuid": "70b9839f-d035-4ea6-a475-0c76b7077dcd"
        },
        "colab": {
          "base_uri": "https://localhost:8080/"
        },
        "id": "aFAAPcoGAk2m",
        "outputId": "c555ebaa-362d-4697-9eda-70f880d41520"
      },
      "outputs": [
        {
          "output_type": "stream",
          "name": "stdout",
          "text": [
            "[(1, 1), (2, 4), (3, 9), (4, 16), (2, 4), (5, 25), (6, 36)]\n"
          ]
        }
      ],
      "execution_count": 33
    },
    {
      "cell_type": "code",
      "source": [
        "rdd = sc.parallelize([(1,2), (2,4), (2,6)])\n",
        "print(\"Original RDD :\", rdd.collect())\n",
        "print(\"After transformation : \", rdd.reduceByKey(lambda a,b: a+b).collect())"
      ],
      "metadata": {
        "application/vnd.databricks.v1+cell": {
          "title": "",
          "showTitle": false,
          "inputWidgets": {},
          "nuid": "55f10ac1-00b8-4730-80fc-4971a97daeb8"
        },
        "colab": {
          "base_uri": "https://localhost:8080/"
        },
        "id": "r97h1Y02Ak2m",
        "outputId": "a9d1eb4b-a3b4-469e-abcd-a67fcc2b39d2"
      },
      "outputs": [
        {
          "output_type": "stream",
          "name": "stdout",
          "text": [
            "Original RDD : [(1, 2), (2, 4), (2, 6)]\n",
            "After transformation :  [(2, 10), (1, 2)]\n"
          ]
        }
      ],
      "execution_count": 34
    },
    {
      "cell_type": "code",
      "source": [
        "rdd = sc.parallelize([(2,2), (1,4), (3,6)])\n",
        "print(\"Original RDD :\", rdd.collect())\n",
        "print(\"After transformation : \", rdd.sortByKey().collect())"
      ],
      "metadata": {
        "application/vnd.databricks.v1+cell": {
          "title": "",
          "showTitle": false,
          "inputWidgets": {},
          "nuid": "cba02f02-cbed-4a29-b352-379bf7dc1f92"
        },
        "colab": {
          "base_uri": "https://localhost:8080/"
        },
        "id": "3xmbfmVQAk2m",
        "outputId": "81cd0d6a-c1c3-438e-a1a9-06507d4c6333"
      },
      "outputs": [
        {
          "output_type": "stream",
          "name": "stdout",
          "text": [
            "Original RDD : [(2, 2), (1, 4), (3, 6)]\n",
            "After transformation :  [(1, 4), (2, 2), (3, 6)]\n"
          ]
        }
      ],
      "execution_count": 35
    },
    {
      "cell_type": "code",
      "source": [
        "rdd = sc.parallelize([(1,2), (2,4), (2,6)])\n",
        "print(\"Original RDD :\", rdd.collect())\n",
        "print(\"After transformation : \", rdd.mapValues(lambda x: x*x).collect())"
      ],
      "metadata": {
        "application/vnd.databricks.v1+cell": {
          "title": "",
          "showTitle": false,
          "inputWidgets": {},
          "nuid": "0e360109-21ea-4c45-917f-7f36657dd9ed"
        },
        "colab": {
          "base_uri": "https://localhost:8080/"
        },
        "id": "L6Sy24KVAk2m",
        "outputId": "aa3bb132-b513-4a84-a1cc-79f76aaca41a"
      },
      "outputs": [
        {
          "output_type": "stream",
          "name": "stdout",
          "text": [
            "Original RDD : [(1, 2), (2, 4), (2, 6)]\n",
            "After transformation :  [(1, 4), (2, 16), (2, 36)]\n"
          ]
        }
      ],
      "execution_count": 36
    },
    {
      "cell_type": "code",
      "source": [
        "rdd = sc.parallelize([(1,2), (2,4), (2,6)])\n",
        "print(\"Original RDD :\", rdd.collect())\n",
        "#print(\"After transformation : \", rdd.groupByKey().mapValues(lambda x:[a for a in x]).collect())\n",
        "print(\"After transformation : \", rdd.groupByKey().mapValues(lambda x:[a+a for a in x]).collect())\n"
      ],
      "metadata": {
        "application/vnd.databricks.v1+cell": {
          "title": "",
          "showTitle": false,
          "inputWidgets": {},
          "nuid": "0f4f5c3c-fb0c-4598-94e2-b00881db2837"
        },
        "colab": {
          "base_uri": "https://localhost:8080/"
        },
        "id": "LeoerC3TAk2m",
        "outputId": "d05726c3-996e-4ff2-a64b-a5eeb23aa957"
      },
      "outputs": [
        {
          "output_type": "stream",
          "name": "stdout",
          "text": [
            "Original RDD : [(1, 2), (2, 4), (2, 6)]\n",
            "After transformation :  [(2, [8, 12]), (1, [4])]\n"
          ]
        }
      ],
      "execution_count": 37
    },
    {
      "cell_type": "code",
      "source": [
        "rdd = sc.parallelize([(1,2), (2,4), (2,6)])\n",
        "print(\"Original RDD :\", rdd.collect())\n",
        "# the lambda function generates for each number i, an iterator that produces i,i+1\n",
        "print(\"After transformation : \", rdd.flatMapValues(lambda x: list(range(x,x+2))).collect())"
      ],
      "metadata": {
        "application/vnd.databricks.v1+cell": {
          "title": "",
          "showTitle": false,
          "inputWidgets": {},
          "nuid": "87a9cdd2-3aa2-4c68-9795-278d25de2e1f"
        },
        "colab": {
          "base_uri": "https://localhost:8080/"
        },
        "id": "tnS8-trBAk2m",
        "outputId": "665a2fe7-e101-4cae-f690-0091e37921fc"
      },
      "outputs": [
        {
          "output_type": "stream",
          "name": "stdout",
          "text": [
            "Original RDD : [(1, 2), (2, 4), (2, 6)]\n",
            "After transformation :  [(1, 2), (1, 3), (2, 4), (2, 5), (2, 6), (2, 7)]\n"
          ]
        }
      ],
      "execution_count": 38
    },
    {
      "cell_type": "code",
      "source": [
        "rdd1 = sc.parallelize([(1,2),(2,1),(2,2)])\n",
        "rdd2 = sc.parallelize([(2,5),(3,1)])\n",
        "print('rdd1=',rdd1.collect())\n",
        "print('rdd2=',rdd2.collect())\n",
        "print(\"Result:\", rdd1.leftOuterJoin(rdd2).collect())"
      ],
      "metadata": {
        "application/vnd.databricks.v1+cell": {
          "title": "",
          "showTitle": false,
          "inputWidgets": {},
          "nuid": "5d091727-5c17-4ae3-92c4-2e8d054ac171"
        },
        "colab": {
          "base_uri": "https://localhost:8080/"
        },
        "id": "6gZH9FojAk2n",
        "outputId": "9cb6bfd2-c9b9-40e6-f971-c38daf2c44c9"
      },
      "outputs": [
        {
          "output_type": "stream",
          "name": "stdout",
          "text": [
            "rdd1= [(1, 2), (2, 1), (2, 2)]\n",
            "rdd2= [(2, 5), (3, 1)]\n",
            "Result: [(1, (2, None)), (2, (1, 5)), (2, (2, 5))]\n"
          ]
        }
      ],
      "execution_count": 39
    },
    {
      "cell_type": "code",
      "source": [
        "print('rdd1=',rdd1.collect())\n",
        "print('rdd2=',rdd2.collect())\n",
        "print(\"Result:\", rdd1.join(rdd2).collect())"
      ],
      "metadata": {
        "application/vnd.databricks.v1+cell": {
          "title": "",
          "showTitle": false,
          "inputWidgets": {},
          "nuid": "02102933-2161-4e0c-a69e-c15cf6636ca7"
        },
        "colab": {
          "base_uri": "https://localhost:8080/"
        },
        "id": "abATFfPwAk2n",
        "outputId": "b585f333-df1e-49e5-9385-d0933a4a171e"
      },
      "outputs": [
        {
          "output_type": "stream",
          "name": "stdout",
          "text": [
            "rdd1= [(1, 2), (2, 1), (2, 2)]\n",
            "rdd2= [(2, 5), (3, 1)]\n",
            "Result: [(2, (1, 5)), (2, (2, 5))]\n"
          ]
        }
      ],
      "execution_count": 40
    },
    {
      "cell_type": "code",
      "source": [
        ""
      ],
      "metadata": {
        "application/vnd.databricks.v1+cell": {
          "title": "",
          "showTitle": false,
          "inputWidgets": {},
          "nuid": "88e863a1-b99f-42db-88a9-ac9f432ddcbe"
        },
        "id": "YHCTO3GrAk2n"
      },
      "outputs": [],
      "execution_count": 40
    }
  ],
  "metadata": {
    "application/vnd.databricks.v1+notebook": {
      "notebookName": "1 Spark RDD",
      "dashboards": [],
      "notebookMetadata": {
        "pythonIndentUnit": 2
      },
      "language": "python",
      "widgets": {},
      "notebookOrigID": 1211521928700258
    },
    "colab": {
      "name": "1 Spark RDD.ipynb",
      "provenance": []
    },
    "language_info": {
      "name": "python"
    },
    "kernelspec": {
      "name": "python3",
      "display_name": "Python 3"
    }
  },
  "nbformat": 4,
  "nbformat_minor": 0
}