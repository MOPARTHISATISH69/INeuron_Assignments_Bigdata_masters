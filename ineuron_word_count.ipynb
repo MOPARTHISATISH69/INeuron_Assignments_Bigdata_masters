{
  "nbformat": 4,
  "nbformat_minor": 0,
  "metadata": {
    "colab": {
      "name": "ineuron_word_count.ipynb",
      "provenance": []
    },
    "kernelspec": {
      "name": "python3",
      "display_name": "Python 3"
    },
    "language_info": {
      "name": "python"
    }
  },
  "cells": [
    {
      "cell_type": "code",
      "execution_count": 3,
      "metadata": {
        "id": "Mvfb5OUuxgVB"
      },
      "outputs": [],
      "source": [
        "pharse = \"the quick brown fox jumped over lazy dogs quick dogs jumped jumped\""
      ]
    },
    {
      "cell_type": "markdown",
      "source": [
        "**mapper**"
      ],
      "metadata": {
        "id": "gSFNqW5Wxs57"
      }
    },
    {
      "cell_type": "code",
      "source": [
        "words = pharse.split()\n",
        "number = [1 for i in range(len(words))]\n",
        "for w,n in zip(words,number):\n",
        "  print(w,n)"
      ],
      "metadata": {
        "colab": {
          "base_uri": "https://localhost:8080/"
        },
        "id": "6K7xCymAxuJx",
        "outputId": "b58d41c0-cc4b-43c1-a296-b1d69c251b1d"
      },
      "execution_count": 7,
      "outputs": [
        {
          "output_type": "stream",
          "name": "stdout",
          "text": [
            "the 1\n",
            "quick 1\n",
            "brown 1\n",
            "fox 1\n",
            "jumped 1\n",
            "over 1\n",
            "lazy 1\n",
            "dogs 1\n",
            "quick 1\n",
            "dogs 1\n",
            "jumped 1\n",
            "jumped 1\n"
          ]
        }
      ]
    },
    {
      "cell_type": "markdown",
      "source": [
        "**shuffle sort**"
      ],
      "metadata": {
        "id": "24CVuqrDzrWK"
      }
    },
    {
      "cell_type": "code",
      "source": [
        "def freq(pharse):\n",
        "\n",
        "\t# break the string into list of words\n",
        "\tpharse = pharse.split()\t\t\n",
        "\tstr2 = []\n",
        "\n",
        "\t# loop till string values present in list str\n",
        "\tfor i in pharse:\t\t\t\n",
        "\n",
        "\t\t# checking for the duplicacy\n",
        "\t\tif i not in str2:\n",
        "\n",
        "\t\t\t# insert value in str2\n",
        "\t\t\tstr2.append(i)\n",
        "\t\t\t\n",
        "\tfor i in range(0, len(str2)):\n",
        "\n",
        "\t\t# count the frequency of each word(present\n",
        "\t\t# in str2) in str and print\n",
        "\t\tprint(str2[i], [ 1 for j in range(pharse.count(str2[i]))])\n",
        "\n",
        "\n",
        "pharse = \"the quick brown fox jumped over lazy dogs quick dogs jumped jumped\"\n",
        "freq(pharse)\t\t\t\t\t"
      ],
      "metadata": {
        "colab": {
          "base_uri": "https://localhost:8080/"
        },
        "id": "cwc5tGidyAk7",
        "outputId": "4a010670-753a-4610-bd7a-5fcf73eb3239"
      },
      "execution_count": 22,
      "outputs": [
        {
          "output_type": "stream",
          "name": "stdout",
          "text": [
            "the [1]\n",
            "quick [1, 1]\n",
            "brown [1]\n",
            "fox [1]\n",
            "jumped [1, 1, 1]\n",
            "over [1]\n",
            "lazy [1]\n",
            "dogs [1, 1]\n"
          ]
        }
      ]
    },
    {
      "cell_type": "markdown",
      "source": [
        "**reduce -sum()**"
      ],
      "metadata": {
        "id": "7D_UrkMX4g0r"
      }
    },
    {
      "cell_type": "code",
      "source": [
        "##https://www.geeksforgeeks.org/calculate-the-frequency-of-each-word-in-the-given-string/\n",
        "def printFrequency(strr):\n",
        "\tM = {}\n",
        "\t\n",
        "\t# string for storing the words\n",
        "\tword = \"\"\n",
        "\t\n",
        "\tfor i in range(len(strr)):\n",
        "\t\t\n",
        "\t\t# Check if current character\n",
        "\t\t# is blank space then it\n",
        "\t\t# means we have got one word\n",
        "\t\tif (strr[i] == ' '):\n",
        "\t\t\t\n",
        "\t\t\t# If the current word\t\n",
        "\t\t\t# is not found then insert\n",
        "\t\t\t# current word with frequency 1\n",
        "\t\t\tif (word not in M):\n",
        "\t\t\t\tM[word] = 1\n",
        "\t\t\t\tword = \"\"\n",
        "\t\t\t\n",
        "\t\t\t# update the frequency\n",
        "\t\t\telse:\n",
        "\t\t\t\tM[word] += 1\n",
        "\t\t\t\tword = \"\"\n",
        "\t\t\n",
        "\t\telse:\n",
        "\t\t\tword += strr[i]\n",
        "\t\n",
        "\t# Storing the last word of the string\n",
        "\tif (word not in M):\n",
        "\t\tM[word] = 1\n",
        "\t\n",
        "\t# Update the frequency\n",
        "\telse:\n",
        "\t\tM[word] += 1\n",
        "\t\t\n",
        "\t# Traverse the map\n",
        "\t# to print the frequency\n",
        "\tfor it in M:\n",
        "\t\tprint(it, M[it])\n",
        "\t\n",
        "# Driver Code\n",
        "pharse = \"the quick brown fox jumped over lazy dogs quick dogs jumped jumped\"\n",
        "printFrequency(pharse)\n",
        "\n",
        "# This code is contributed by shubhamsingh10\n"
      ],
      "metadata": {
        "colab": {
          "base_uri": "https://localhost:8080/"
        },
        "id": "UC8luF1Iz0_d",
        "outputId": "803c0997-c395-45a4-9a14-3484c22ea58e"
      },
      "execution_count": 32,
      "outputs": [
        {
          "output_type": "stream",
          "name": "stdout",
          "text": [
            "the 1\n",
            "quick 2\n",
            "brown 1\n",
            "fox 1\n",
            "jumped 3\n",
            "over 1\n",
            "lazy 1\n",
            "dogs 2\n"
          ]
        }
      ]
    },
    {
      "cell_type": "code",
      "source": [
        ""
      ],
      "metadata": {
        "id": "7YjTIDYs5JGN"
      },
      "execution_count": null,
      "outputs": []
    }
  ]
}