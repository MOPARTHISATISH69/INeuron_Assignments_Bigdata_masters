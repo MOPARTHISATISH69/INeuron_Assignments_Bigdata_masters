{
  "nbformat": 4,
  "nbformat_minor": 0,
  "metadata": {
    "colab": {
      "name": "Python_iNeuron.ipynb",
      "provenance": []
    },
    "kernelspec": {
      "name": "python3",
      "display_name": "Python 3"
    },
    "language_info": {
      "name": "python"
    }
  },
  "cells": [
    {
      "cell_type": "markdown",
      "source": [
        "**LIST_REMOVE_APPEND**"
      ],
      "metadata": {
        "id": "tnUHFM7v-Ivz"
      }
    },
    {
      "cell_type": "code",
      "execution_count": 4,
      "metadata": {
        "colab": {
          "base_uri": "https://localhost:8080/"
        },
        "id": "JPYqLHsG82Dl",
        "outputId": "95007d3c-4d39-40d2-cf83-bbbf2a56b556"
      },
      "outputs": [
        {
          "output_type": "stream",
          "name": "stdout",
          "text": [
            "['SAS', 'R', 'PYTHON', 'SPARK']\n"
          ]
        }
      ],
      "source": [
        "list_given = ['SAS', 'R', 'PYTHON', 'SPSS']\n",
        "list_given.remove('SPSS')\n",
        "list_given.append('SPARK')\n",
        "print(list_given)"
      ]
    },
    {
      "cell_type": "markdown",
      "source": [
        "**STRING_TO_LIST_CPNVERSION**"
      ],
      "metadata": {
        "id": "_3ku4H0F-M9a"
      }
    },
    {
      "cell_type": "code",
      "source": [
        "list_given = 'I love Data Science & Python'\n",
        "list_given = list_given.split('&')    \n",
        "print(list_given)"
      ],
      "metadata": {
        "colab": {
          "base_uri": "https://localhost:8080/"
        },
        "id": "6sLDnLkp9moS",
        "outputId": "a5c7ad59-37e8-4532-a788-df483819a15d"
      },
      "execution_count": 3,
      "outputs": [
        {
          "output_type": "stream",
          "name": "stdout",
          "text": [
            "['I love Data Science ', ' Python']\n"
          ]
        }
      ]
    },
    {
      "cell_type": "markdown",
      "source": [
        "**LIST_TO_STRING_CPNVERSION**"
      ],
      "metadata": {
        "id": "M6Eiimgq-SXi"
      }
    },
    {
      "cell_type": "code",
      "source": [
        "list_given =  ['Pythons syntax is easy to learn', 'Pythons syntax is very clear'] \n",
        "list_given = ' & '.join(list_given)\n",
        "print(list_given)"
      ],
      "metadata": {
        "colab": {
          "base_uri": "https://localhost:8080/"
        },
        "id": "1EhAayQb9x9I",
        "outputId": "bf7b576a-45cc-4ad9-cadd-884f90b1cdc6"
      },
      "execution_count": 5,
      "outputs": [
        {
          "output_type": "stream",
          "name": "stdout",
          "text": [
            "Pythons syntax is easy to learn & Pythons syntax is very clear\n"
          ]
        }
      ]
    },
    {
      "cell_type": "markdown",
      "source": [
        "**NESTED_LIST**"
      ],
      "metadata": {
        "id": "lGBHyauv-fGr"
      }
    },
    {
      "cell_type": "code",
      "source": [
        "list_given = [['SAS','R'],['Tableau','SQL'],['Python','Java']]\n",
        "print(list_given)\n",
        "print(list_given[2][0])"
      ],
      "metadata": {
        "colab": {
          "base_uri": "https://localhost:8080/"
        },
        "id": "76mMHBcA-dvr",
        "outputId": "f2052290-b489-42e7-fddb-2c655ee692e0"
      },
      "execution_count": 6,
      "outputs": [
        {
          "output_type": "stream",
          "name": "stdout",
          "text": [
            "[['SAS', 'R'], ['Tableau', 'SQL'], ['Python', 'Java']]\n",
            "Python\n"
          ]
        }
      ]
    },
    {
      "cell_type": "markdown",
      "source": [
        "**IT'S TIME TO DISCO**"
      ],
      "metadata": {
        "id": "agbYmOe6-vXS"
      }
    },
    {
      "cell_type": "code",
      "source": [
        "t = (\"disco\", 12, 4.5)\n",
        "print(t[0][2])"
      ],
      "metadata": {
        "colab": {
          "base_uri": "https://localhost:8080/"
        },
        "id": "4j-tk-zy-o61",
        "outputId": "e6ea4baf-30f5-4c3a-d0df-b2eeb600e0a1"
      },
      "execution_count": 7,
      "outputs": [
        {
          "output_type": "stream",
          "name": "stdout",
          "text": [
            "s\n"
          ]
        }
      ]
    },
    {
      "cell_type": "markdown",
      "source": [
        "**STRING_Palindrome **"
      ],
      "metadata": {
        "id": "g9WbU5mk-7s6"
      }
    },
    {
      "cell_type": "code",
      "source": [
        "#Palindrome \n",
        "inp_str = input('Input string is :: ')\n",
        "if inp_str.lower() == inp_str[::-1].lower():\n",
        "    print(1)\n",
        "else:\n",
        "    print(0)"
      ],
      "metadata": {
        "colab": {
          "base_uri": "https://localhost:8080/"
        },
        "id": "KfC8c7p--yq5",
        "outputId": "253c2598-e9f3-46d6-b8c3-048b04e52a16"
      },
      "execution_count": 10,
      "outputs": [
        {
          "output_type": "stream",
          "name": "stdout",
          "text": [
            "Input string is :: Madam\n",
            "1\n"
          ]
        }
      ]
    },
    {
      "cell_type": "markdown",
      "source": [
        "**Reverse word**"
      ],
      "metadata": {
        "id": "34iMGD5O_XiN"
      }
    },
    {
      "cell_type": "code",
      "source": [
        "inp_str = input('Input string-\\n')\n",
        "words = inp_str.split(' ') \n",
        "out_reverse = ' '.join(reversed(words))\n",
        "print(out_reverse)"
      ],
      "metadata": {
        "colab": {
          "base_uri": "https://localhost:8080/"
        },
        "id": "YdJKmgjq_DGt",
        "outputId": "14c82b2d-2635-4511-8fd1-7d5a77f0ad78"
      },
      "execution_count": 11,
      "outputs": [
        {
          "output_type": "stream",
          "name": "stdout",
          "text": [
            "Input string-\n",
            "India is my country\n",
            "country my is India\n"
          ]
        }
      ]
    },
    {
      "cell_type": "markdown",
      "source": [
        "**STRING_FORMATTING**"
      ],
      "metadata": {
        "id": "OE-NBUH-_hha"
      }
    },
    {
      "cell_type": "code",
      "source": [
        "def str_formatting(pharse):\n",
        "    print(f'Input - {pharse}')\n",
        "    output_string = pharse.split(' ')\n",
        "    output_string = '_'.join(output_string)\n",
        "    print(f'Output - {output_string.lower()}')\n",
        "    print(' ')\n",
        "\n",
        "str_formatting('caloRie ConsuMed')\n",
        "str_formatting('data science')\n",
        "str_formatting('datascience')"
      ],
      "metadata": {
        "colab": {
          "base_uri": "https://localhost:8080/"
        },
        "id": "hyi8eiEU_ZEE",
        "outputId": "70f67d55-2acf-4697-fc80-17049549fd3c"
      },
      "execution_count": 13,
      "outputs": [
        {
          "output_type": "stream",
          "name": "stdout",
          "text": [
            "Input - caloRie ConsuMed\n",
            "Output - calorie_consumed\n",
            " \n",
            "Input - data science\n",
            "Output - data_science\n",
            " \n",
            "Input - datascience\n",
            "Output - datascience\n",
            " \n"
          ]
        }
      ]
    },
    {
      "cell_type": "markdown",
      "source": [
        "1. How will you extract ‘love’ from the string S = “I love Python”? (More than one\n",
        "option may be correct.).\n",
        "a. S[2:5]\n",
        "b. S[2:6]\n",
        "c. S[3:7]\n",
        "d. S[-11:-7]\n",
        "e. S[-11:-8]\n",
        "     \n",
        "**Ans - b and d**"
      ],
      "metadata": {
        "id": "S_Ekv-P8AJv1"
      }
    },
    {
      "cell_type": "markdown",
      "source": [
        "2. What will the output of 3 * 3 ** 3 be?\n",
        "a. 9\n",
        "b. 27\n",
        "c. 81\n",
        "d. 729\n",
        "\n",
        "Ans - c\n",
        "3. What will the output be of ((500//7) % 5) ** 3?\n",
        "a. 1\n",
        "b. 2.91\n",
        "c. 71.42\n",
        "d. 0\n",
        "e. 8\n",
        "\n",
        "Ans - a\n",
        "81\n",
        "4. If you have a tuple T = (3, 5, 7, 11), what will the output of T.append(9) be?\n",
        "a. (3, 5, 7, 9, 11)\n",
        "b. (9, 3, 5, 7, 11)\n",
        "c. (3, 5, 7, 11, 9)\n",
        "d. Error\n",
        "\n",
        "Ans - d\n",
        "5. What will the output of the following program be?\n",
        "a. Vikas\n",
        "b. Mahima\n",
        "c. y\n",
        "d. A\n",
        "Ans - Question is not complete.\n",
        "l = [32, 34, 12, 27, 33]\n",
        "l.append((14, 19))\n",
        "print(l)\n",
        "print(len(l))\n",
        "[32, 34, 12, 27, 33, (14, 19)]\n",
        "6\n",
        "6. What will the output of the following code be?\n",
        "\n",
        "a. 5\n",
        "b. 6\n",
        "c. 7\n",
        "d. The code will throw an error\n",
        "\n",
        "Ans - b\n",
        "7. Which of the following statements is incorrect regarding sets in Python?\n",
        "a. Sets do not contain duplicate elements\n",
        "b. Sets are represented using curly braces {}\n",
        "c. Sets are immutable\n",
        "d. All of the above\n",
        "\n",
        "Ans - d\n",
        "D = {1:['Raj', 22], 2:['Simran', 21], 3:['Rahul', 40]}\n",
        "for val in D:\n",
        "    print(val)\n",
        "1\n",
        "2\n",
        "3\n",
        "Whatwilltheoutputbeofthefollowingcode?\n",
        "  D = {l:['Raj', 22), 2:('Simran',21], 3:['Rahul', 40]}\n",
        "for val in D:\n",
        "print(val)\n",
        "a. 1 2 3\n",
        "b. [‘Raj’, 22] [‘Simran’, 21]\n",
        "[‘Rahul’, 40]\n",
        "c. 1 [‘Raj’, 22]\n",
        "2 [‘Simran’, 21]\n",
        "3 [‘Rahul’, 40]\n",
        "d. ‘Raj’\n",
        "‘Simran’ ‘Rahul’\n",
        "                         \n",
        "Ans - a    \n",
        "9. What will the ‘comprehension equivalent’ be for the following snippet of code?\n",
        "a. word for sentence in paragraph for word in sentence.split()\n",
        "b. [word for sentence in paragraph for word in sentence.split()]\n",
        "c. word for word in sentence.split() for sentence in paragraph\n",
        "d. [word for word in sentence.split() for sentence in paragraph]\n",
        "\n",
        "Ans - b\n",
        "What will be the output of this code?\n",
        "a. [10, 9, 8, 7, 6, 5, 4, 3, 2, 1]\n",
        "b. [9, 8, 7, 6, 5, 4, 3, 2]\n",
        "c. [9, 8, 7, 6, 5, 4, 3, 2, 1]\n",
        "d. [10, 9, 8, 7, 6, 5, 4, 3, 2]\n",
        "\n",
        "Ans - d\n",
        "print(list(range(10, 1, -1)))\n",
        "\n",
        "a -[10, 9, 8, 7, 6, 5, 4, 3, 2]"
      ],
      "metadata": {
        "id": "iXM8VfSjALwC"
      }
    }
  ]
}